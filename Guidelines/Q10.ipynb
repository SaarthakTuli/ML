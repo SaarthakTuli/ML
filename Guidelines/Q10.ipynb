{
 "cells": [
  {
   "cell_type": "code",
   "execution_count": 6,
   "metadata": {},
   "outputs": [],
   "source": [
    "data = [0, 1, -4, 2, -2, 8]"
   ]
  },
  {
   "cell_type": "code",
   "execution_count": 7,
   "metadata": {},
   "outputs": [
    {
     "name": "stdout",
     "output_type": "stream",
     "text": [
      "Value is 0\n",
      "Value is positive\n",
      "Value is negetive\n",
      "Value is positive\n",
      "Value is negetive\n",
      "Value is positive\n"
     ]
    }
   ],
   "source": [
    "for num in data:\n",
    "    if num == 0:\n",
    "        print(\"Value is 0\")\n",
    "\n",
    "    elif num > 0:\n",
    "        print(\"Value is positive\")\n",
    "\n",
    "    elif num < 0:\n",
    "        print(\"Value is negetive\")\n",
    "\n",
    "    else:\n",
    "        break"
   ]
  },
  {
   "cell_type": "code",
   "execution_count": 10,
   "metadata": {},
   "outputs": [
    {
     "name": "stdout",
     "output_type": "stream",
     "text": [
      "Iteration is: 0\n",
      "Iteration is: 1\n",
      "Iteration is: 2\n",
      "Iteration is: 3\n",
      "Iteration is: 4\n",
      "Iteration is: 5\n",
      "Iteration is: 6\n"
     ]
    }
   ],
   "source": [
    "iteration = 0\n",
    "\n",
    "while (iteration < 10):\n",
    "    if (iteration == 7):\n",
    "        break\n",
    "\n",
    "    print(f\"Iteration is: {iteration}\")\n",
    "    iteration += 1"
   ]
  }
 ],
 "metadata": {
  "kernelspec": {
   "display_name": "Python 3",
   "language": "python",
   "name": "python3"
  },
  "language_info": {
   "codemirror_mode": {
    "name": "ipython",
    "version": 3
   },
   "file_extension": ".py",
   "mimetype": "text/x-python",
   "name": "python",
   "nbconvert_exporter": "python",
   "pygments_lexer": "ipython3",
   "version": "3.11.6"
  }
 },
 "nbformat": 4,
 "nbformat_minor": 2
}
